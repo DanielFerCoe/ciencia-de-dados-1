{
 "cells": [
  {
   "cell_type": "markdown",
   "metadata": {
    "slideshow": {
     "slide_type": "slide"
    }
   },
   "source": [
    "# Desvio Condicional (`IF`)\n",
    "\n",
    "**Objetivos**: Apresentar desvio condicional em Python (`IF`)"
   ]
  },
  {
   "cell_type": "markdown",
   "metadata": {
    "slideshow": {
     "slide_type": "fragment"
    }
   },
   "source": [
    "Os desvios condicionais, também chamados de estruturas de seleção ou decisão, são\n",
    "utilizados quando existe a necessidade de verificar condições para a realização de uma\n",
    "instrução ou de uma sequência de instruções. Os testes de seleção também podem ser\n",
    "utilizados para verificar opções de escolha."
   ]
  },
  {
   "cell_type": "markdown",
   "metadata": {
    "slideshow": {
     "slide_type": "slide"
    }
   },
   "source": [
    "## Desvio Condicional Simples\n",
    "\n",
    "Esse tipo de desvio é representado por uma instrução que avalia uma expressão lógica, resultando um valor que pode ser verdadeiro ou falso. Ele deve ser utilizado caso seja necessário executar instruções somente se uma condição for verdadeira.\n",
    "\n",
    "**Cuidado com edentação (*identation*)**\n",
    "\n",
    "```python\n",
    "if (condição):\n",
    "    instruções condição verdadeira\n",
    "instruções independentemente da condição ser verdadeira ou não\n",
    "```"
   ]
  },
  {
   "cell_type": "code",
   "execution_count": 5,
   "metadata": {
    "slideshow": {
     "slide_type": "subslide"
    }
   },
   "outputs": [
    {
     "name": "stdout",
     "output_type": "stream",
     "text": [
      "a é igual a b\n",
      "Valor de c:  2\n"
     ]
    }
   ],
   "source": [
    "a = 5\n",
    "b = 5\n",
    "c = 0\n",
    "\n",
    "if (a == b):\n",
    "    print('a é igual a b')\n",
    "    c +=2\n",
    "print('Valor de c: ', c)"
   ]
  },
  {
   "cell_type": "code",
   "execution_count": 6,
   "metadata": {
    "slideshow": {
     "slide_type": "fragment"
    }
   },
   "outputs": [
    {
     "name": "stdout",
     "output_type": "stream",
     "text": [
      "Valor de c:  0\n"
     ]
    }
   ],
   "source": [
    "a = 5\n",
    "b = 5\n",
    "c = 0\n",
    "if (a != b):\n",
    "    print('a é igual a b')\n",
    "    c +=2\n",
    "print('Valor de c: ', c)"
   ]
  },
  {
   "cell_type": "code",
   "execution_count": 7,
   "metadata": {
    "slideshow": {
     "slide_type": "subslide"
    }
   },
   "outputs": [
    {
     "name": "stdout",
     "output_type": "stream",
     "text": [
      "a é igual a b\n",
      "c mais cinco é igual a a\n",
      "Valor de c:  4\n"
     ]
    }
   ],
   "source": [
    "a = 5\n",
    "b = 5\n",
    "c = 0\n",
    "\n",
    "if (a == b):\n",
    "    print('a é igual a b')\n",
    "    if (c + 5 == a):\n",
    "        print('c mais cinco é igual a a')\n",
    "        c += 2\n",
    "    c +=2\n",
    "print('Valor de c: ', c)"
   ]
  },
  {
   "cell_type": "code",
   "execution_count": 8,
   "metadata": {
    "slideshow": {
     "slide_type": "fragment"
    }
   },
   "outputs": [
    {
     "name": "stdout",
     "output_type": "stream",
     "text": [
      "a é igual a b\n",
      "Valor de c:  2\n"
     ]
    }
   ],
   "source": [
    "a = 5\n",
    "b = 5\n",
    "c = 0\n",
    "\n",
    "if (a == b):\n",
    "    print('a é igual a b')\n",
    "    if (c + 6 == a):\n",
    "        print('c mais seis é igual a a')\n",
    "        c += 2\n",
    "    c +=2\n",
    "print('Valor de c: ', c)"
   ]
  },
  {
   "cell_type": "markdown",
   "metadata": {
    "slideshow": {
     "slide_type": "slide"
    }
   },
   "source": [
    "## Desvio Condicional Composto\n",
    "O desvio condicional composto prevê uma condição com 2 conjuntos de instruções para serem realizados de acordo com a avaliação da resposta: um bloco de instruções para resposta verdadeiro e um bloco de instruções para resposta falso.\n",
    "\n",
    "```python\n",
    "if (condição):\n",
    "    instruções condição verdadeira\n",
    "else:\n",
    "    instrução condição falsa\n",
    "instruções independentemente da condição ser verdadeira ou não\n",
    "```"
   ]
  },
  {
   "cell_type": "code",
   "execution_count": null,
   "metadata": {},
   "outputs": [],
   "source": []
  }
 ],
 "metadata": {
  "celltoolbar": "Slideshow",
  "kernelspec": {
   "display_name": "Python [conda env:root] *",
   "language": "python",
   "name": "conda-root-py"
  },
  "language_info": {
   "codemirror_mode": {
    "name": "ipython",
    "version": 3
   },
   "file_extension": ".py",
   "mimetype": "text/x-python",
   "name": "python",
   "nbconvert_exporter": "python",
   "pygments_lexer": "ipython3",
   "version": "3.7.6"
  }
 },
 "nbformat": 4,
 "nbformat_minor": 4
}
