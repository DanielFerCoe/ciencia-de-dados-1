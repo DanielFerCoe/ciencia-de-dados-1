{
 "cells": [
  {
   "cell_type": "markdown",
   "metadata": {
    "slideshow": {
     "slide_type": "skip"
    }
   },
   "source": [
    "[![Binder](https://mybinder.org/badge_logo.svg)](https://mybinder.org/v2/gh/storopoli/ciencia-de-dados/master?filepath=notebooks%2FAula_11_Regressao_Linear.ipynb)"
   ]
  },
  {
   "cell_type": "markdown",
   "metadata": {
    "slideshow": {
     "slide_type": "slide"
    }
   },
   "source": [
    "# Aula 11 - Regressão Linear\n",
    "\n",
    "**Objetivo**: Aprender o que é Regressão Linear e introduzir intuições sobre o Método do Gradiente e o Método do Gradiente Estocástico"
   ]
  },
  {
   "cell_type": "markdown",
   "metadata": {
    "slideshow": {
     "slide_type": "slide"
    }
   },
   "source": [
    "## Defininição - Regressão Linear\n",
    "\n",
    "> Uma regressão linear faz uma predição simplesmente computando uma soma ponderada dos atributos (*features*), mais uma constante chamada viés (*bias*), também chamado de constante (*intercept*)."
   ]
  },
  {
   "cell_type": "markdown",
   "metadata": {
    "slideshow": {
     "slide_type": "subslide"
    }
   },
   "source": [
    "<img src=\"images/reg-linear.png\" alt=\"reg-linear\" style=\"width: 400px;\"/>"
   ]
  },
  {
   "cell_type": "markdown",
   "metadata": {
    "slideshow": {
     "slide_type": "subslide"
    }
   },
   "source": [
    "$$ \\hat{y} = \\theta_0 + \\theta_1 x_1 + \\theta_2 x_2 + \\dots \\theta_n x_n$$\n",
    "\n",
    "$\\hat{y}$ - valor previsto\n",
    "\n",
    "$\\theta$ - parâmetro do modelo\n",
    "\n",
    "$n$ - número de atributos (*features*)\n",
    "\n",
    "$x_i$ - o valor do *inésimo* atributo (*feature*)"
   ]
  },
  {
   "cell_type": "markdown",
   "metadata": {
    "slideshow": {
     "slide_type": "fragment"
    }
   },
   "source": [
    "### Exemplo\n",
    "\n",
    "$\\mathrm{preço~de~residência} = 4500 + 1000\\times \\mathrm{quartos} + 120 \\times \\mathrm{m}^2 + 3000 \\times \\mathrm{banheiros}$"
   ]
  },
  {
   "cell_type": "markdown",
   "metadata": {
    "slideshow": {
     "slide_type": "slide"
    }
   },
   "source": [
    "## Métricas de Desempenho de uma Regressão\n",
    "\n",
    "<img src=\"images/erro-reg.png\" alt=\"erro-reg\" style=\"width: 400px;\"/>"
   ]
  },
  {
   "cell_type": "markdown",
   "metadata": {
    "slideshow": {
     "slide_type": "subslide"
    }
   },
   "source": [
    "### *Mean Squared Error* (MSE) - Erro Quadrático Médio\n",
    "\n",
    "$$MSE = \\frac{1}{n}\\Sigma_{i=1}^{n}{(\\hat{y}_i - y_i)^2}$$\n",
    "\n",
    "### *Mean Absolute Error* (MAE) - Erro Absoluto Médio\n",
    "$$MSE = \\frac{1}{n}\\Sigma_{i=1}^{n}{|\\hat{y}_i - y_i|}$$"
   ]
  },
  {
   "cell_type": "markdown",
   "metadata": {
    "slideshow": {
     "slide_type": "subslide"
    }
   },
   "source": [
    "<img src=\"images/gradient-descent.gif\" alt=\"gradient-descent-animation\" style=\"width: 500px;\"/>"
   ]
  },
  {
   "cell_type": "markdown",
   "metadata": {
    "slideshow": {
     "slide_type": "subslide"
    }
   },
   "source": [
    "<img src=\"images/gradient-descent-2.gif\" alt=\"gradient-descent-animation\" style=\"width: 500px;\"/>"
   ]
  },
  {
   "cell_type": "markdown",
   "metadata": {
    "slideshow": {
     "slide_type": "slide"
    }
   },
   "source": [
    "## Exemplo com o dataset [Boston House Prices](https://scikit-learn.org/stable/datasets/index.html#boston-dataset)\n",
    "\n",
    "\n",
    "* $N = 506$\n",
    "* Atributos: 13\n",
    "    * `CRIM` crime per capita da região\n",
    "    * `ZN` proporção de terra residencial\n",
    "    * `INDUS` proporção terra comercial não-varejista\n",
    "    * `CHAS` *Dummy* se fica as margens do Charles River (1 ou 0)\n",
    "    * `NOX` concentração de óxido nítrico (partes por 10 milhões)\n",
    "    * `RM` número de quartos\n",
    "    * `AGE` idade da residência\n",
    "    * `DIS` distância dos cinco centros de emprego de Boston\n",
    "    * `RAD` acessibilidade às rodovias radiais\n",
    "    * `TAX` valor do IPTU por 10,000 USD\n",
    "    * `PTRATIO` relação aluno-professor (*pupil-teacher ratio*) da região\n",
    "    * `B` proporção de afro-descendentes na região\n",
    "    * `LSTAT` porcentagem de população de baixa-renda\n",
    "* Variável dependente: valor da casa"
   ]
  },
  {
   "cell_type": "code",
   "execution_count": 1,
   "metadata": {
    "slideshow": {
     "slide_type": "subslide"
    }
   },
   "outputs": [],
   "source": [
    "from sklearn.datasets import load_boston\n",
    "\n",
    "boston = load_boston()\n",
    "X = boston['data']\n",
    "y = boston['target']"
   ]
  },
  {
   "cell_type": "code",
   "execution_count": 2,
   "metadata": {
    "slideshow": {
     "slide_type": "subslide"
    }
   },
   "outputs": [
    {
     "name": "stdout",
     "output_type": "stream",
     "text": [
      "Nomes dos Atributos:  ['CRIM' 'ZN' 'INDUS' 'CHAS' 'NOX' 'RM' 'AGE' 'DIS' 'RAD' 'TAX' 'PTRATIO'\n",
      " 'B' 'LSTAT'] \n",
      "\n",
      "Tamanho de X:  (506, 13) \n",
      "\n",
      "Tamanho de y:  (506,) \n",
      "\n"
     ]
    }
   ],
   "source": [
    "print('Nomes dos Atributos: ', boston['feature_names'], '\\n')\n",
    "print('Tamanho de X: ', X.shape, '\\n')\n",
    "print('Tamanho de y: ', y.shape, '\\n')"
   ]
  },
  {
   "cell_type": "markdown",
   "metadata": {
    "slideshow": {
     "slide_type": "subslide"
    }
   },
   "source": [
    "### Quebrando dataset em `train` e `test`\n",
    "\n",
    "Usar a função do Scikit-Learn [`sklearn.model_selection.train_test_split()`](https://scikit-learn.org/stable/modules/generated/sklearn.model_selection.train_test_split.html)\n",
    "\n",
    "#### Argumentos:\n",
    "\n",
    "* matriz a ser dividida - `X` ou `y`\n",
    "* `test_size` - `float` ou `int` do tamanho do dataset de teste (padrão $0.25$)\n",
    "* `train_size` - padrão `1 - test_size`\n",
    "* `random_state` - `int` - seed do gerador de número randômicos (replicabilidade)"
   ]
  },
  {
   "cell_type": "code",
   "execution_count": 3,
   "metadata": {
    "slideshow": {
     "slide_type": "subslide"
    }
   },
   "outputs": [],
   "source": [
    "from sklearn.model_selection import train_test_split\n",
    "\n",
    "X_train, X_test, y_train, y_test = train_test_split(X, y, test_size=0.25, random_state=123)"
   ]
  },
  {
   "cell_type": "code",
   "execution_count": 4,
   "metadata": {
    "slideshow": {
     "slide_type": "subslide"
    }
   },
   "outputs": [
    {
     "name": "stdout",
     "output_type": "stream",
     "text": [
      "Tamanho de X_train:  (379, 13) \n",
      "\n",
      "Tamanho de X_test:  (127, 13) \n",
      "\n",
      "Tamanho de y_train:  (379,) \n",
      "\n",
      "Tamanho de y_test:  (127,) \n",
      "\n"
     ]
    }
   ],
   "source": [
    "print('Tamanho de X_train: ', X_train.shape, '\\n')\n",
    "print('Tamanho de X_test: ', X_test.shape, '\\n')\n",
    "print('Tamanho de y_train: ', y_train.shape, '\\n')\n",
    "print('Tamanho de y_test: ', y_test.shape, '\\n')"
   ]
  },
  {
   "cell_type": "markdown",
   "metadata": {
    "slideshow": {
     "slide_type": "subslide"
    }
   },
   "source": [
    "### Regressão Linear\n",
    "Usar a função do Scikit-Learn [`sklearn.linear_model.SGDRegressor()`](https://scikit-learn.org/stable/modules/generated/sklearn.linear_model.SGDRegressor.html)\n",
    "\n",
    "#### Argumentos:\n",
    "* `loss` - `str`\n",
    "    * MSE - `'squared_loss'`\n",
    "    * MAE - `'epsilon_insensitive'`\n",
    "* `max_iter` - `int` - Número máximo de iterações do *Gradient Descent*\n",
    "* `tol` - Tolerância - Critério de parada de treino\n",
    "* `random_state` - `int` - seed do gerador de número randômicos (replicabilidade)\n",
    "* `eta0` - `float` - Taxa de aprendizagem inicial\n",
    "    * padrão `0.01`\n",
    "* `learning_rate` - `str` - Taxa de aprendizagem\n",
    "    * Constante - `'constant'`\n",
    "    * Adapatativa - `'adaptive'`\n",
    "* `n_iter_no_change` - `int` - Somente se usar Taxa de Aprendizagem Adaptativa\n",
    "\n",
    "#### Retorna:\n",
    "* Objeto `estimator` do Scikit-Learn"
   ]
  },
  {
   "cell_type": "code",
   "execution_count": 118,
   "metadata": {
    "slideshow": {
     "slide_type": "subslide"
    }
   },
   "outputs": [],
   "source": [
    "from sklearn.linear_model import SGDRegressor\n",
    "\n",
    "clf = SGDRegressor(loss='squared_loss', learning_rate='constant', max_iter=10,\n",
    "                   eta0=0.01, verbose=1, tol=None, random_state=44)"
   ]
  },
  {
   "cell_type": "markdown",
   "metadata": {
    "slideshow": {
     "slide_type": "subslide"
    }
   },
   "source": [
    "### Classe `Estimators`\n",
    "\n",
    "* `.fit()` - Treina o Modelo\n",
    "    * `X`\n",
    "    * `y`\n",
    "* `.predict()` - Gera predições do modelo\n",
    "    * `X`\n",
    "* `.coef_` - Retorna os coeficientes do modelo ($\\theta_i$)\n",
    "* `.intercept_` - Retorna o viés/constante (*bias/intercept*) do modelo ($\\theta_0$)"
   ]
  },
  {
   "cell_type": "code",
   "execution_count": 119,
   "metadata": {
    "slideshow": {
     "slide_type": "subslide"
    }
   },
   "outputs": [
    {
     "name": "stdout",
     "output_type": "stream",
     "text": [
      "-- Epoch 1\n",
      "Norm: 4663284538194.11, NNZs: 13, Bias: -12339864446.352757, T: 379, Avg. loss: 2101546146359921593646409842688.000000\n",
      "Total training time: 0.00 seconds.\n",
      "-- Epoch 2\n",
      "Norm: 9139455666606.25, NNZs: 13, Bias: -42339864446.352753, T: 758, Avg. loss: 2284069171112466020069728583680.000000\n",
      "Total training time: 0.00 seconds.\n",
      "-- Epoch 3\n",
      "Norm: 7156309155318.21, NNZs: 13, Bias: -52339864446.352753, T: 1137, Avg. loss: 2196791312613982204690392154112.000000\n",
      "Total training time: 0.00 seconds.\n",
      "-- Epoch 4\n",
      "Norm: 9766635924566.42, NNZs: 13, Bias: -22339864446.352753, T: 1516, Avg. loss: 2137359086217507186661667110912.000000\n",
      "Total training time: 0.00 seconds.\n",
      "-- Epoch 5\n",
      "Norm: 10097442373586.37, NNZs: 13, Bias: 7660135553.647247, T: 1895, Avg. loss: 2130901548081396029234278825984.000000\n",
      "Total training time: 0.00 seconds.\n",
      "-- Epoch 6\n",
      "Norm: 7905543931635.98, NNZs: 13, Bias: 37660135553.647247, T: 2274, Avg. loss: 2183585776104203845976486576128.000000\n",
      "Total training time: 0.00 seconds.\n",
      "-- Epoch 7\n",
      "Norm: 11653393537002.82, NNZs: 13, Bias: 7660135553.647247, T: 2653, Avg. loss: 2170543552898359648980981252096.000000\n",
      "Total training time: 0.00 seconds.\n",
      "-- Epoch 8\n",
      "Norm: 10915095627766.81, NNZs: 13, Bias: 37660135553.647247, T: 3032, Avg. loss: 2156156933551328639002018316288.000000\n",
      "Total training time: 0.00 seconds.\n",
      "-- Epoch 9\n",
      "Norm: 9720126979808.59, NNZs: 13, Bias: 47660135553.647247, T: 3411, Avg. loss: 2169198249588989756254550228992.000000\n",
      "Total training time: 0.00 seconds.\n",
      "-- Epoch 10\n",
      "Norm: 9669876331026.13, NNZs: 13, Bias: 37660135553.647247, T: 3790, Avg. loss: 2138385654138805411647686967296.000000\n",
      "Total training time: 0.00 seconds.\n"
     ]
    },
    {
     "data": {
      "text/plain": [
       "SGDRegressor(alpha=0.0001, average=False, early_stopping=False, epsilon=0.1,\n",
       "             eta0=0.01, fit_intercept=True, l1_ratio=0.15,\n",
       "             learning_rate='constant', loss='squared_loss', max_iter=10,\n",
       "             n_iter_no_change=5, penalty='l2', power_t=0.25, random_state=44,\n",
       "             shuffle=True, tol=None, validation_fraction=0.1, verbose=1,\n",
       "             warm_start=False)"
      ]
     },
     "execution_count": 119,
     "metadata": {},
     "output_type": "execute_result"
    }
   ],
   "source": [
    "clf.fit(X_train, y_train)"
   ]
  },
  {
   "cell_type": "code",
   "execution_count": 120,
   "metadata": {
    "slideshow": {
     "slide_type": "subslide"
    }
   },
   "outputs": [
    {
     "name": "stdout",
     "output_type": "stream",
     "text": [
      "[ 1.54134778e+12  4.79452229e+12 -1.28474346e+12  2.39506752e+11\n",
      "  3.53328016e+10 -5.97959426e+11  2.77308180e+11  5.65135851e+11\n",
      " -1.82789252e+12 -4.47138624e+12 -6.13358589e+11  2.25452978e+12\n",
      "  6.07344223e+12]\n",
      "[3.76601356e+10]\n"
     ]
    }
   ],
   "source": [
    "# Coeficientes do modelo\n",
    "print(clf.coef_)\n",
    "\n",
    "# Constante do modelo\n",
    "print(clf.intercept_)"
   ]
  },
  {
   "cell_type": "code",
   "execution_count": null,
   "metadata": {
    "slideshow": {
     "slide_type": "subslide"
    }
   },
   "outputs": [],
   "source": [
    "import numpy as np\n",
    "import matplotlib.pyplot as plt\n",
    "\n",
    "clf =  clf.set_params(verbose=0)  # evitar prints adicionais\n",
    "\n",
    "def mse(y_pred, y):\n",
    "    \"\"\"Retorna o MSE de duas NumPy Arrays\"\"\"\n",
    "    mse = np.square(y_pred - y).mean()\n",
    "    return mse"
   ]
  },
  {
   "cell_type": "code",
   "execution_count": 123,
   "metadata": {
    "slideshow": {
     "slide_type": "subslide"
    }
   },
   "outputs": [
    {
     "data": {
      "image/png": "[encoded data removed]",
      "text/plain": [
       "<Figure size 432x288 with 1 Axes>"
      ]
     },
     "metadata": {
      "needs_background": "light"
     },
     "output_type": "display_data"
    }
   ],
   "source": [
    "# inicia duas listas vazias\n",
    "mse_train_values = []\n",
    "mse_test_values = []\n",
    "\n",
    "# Eixo X do grafico\n",
    "x_axis = np.linspace(0.1e-10, 20, 1000)\n",
    "\n",
    "for i in x_axis:\n",
    "    clf_ =  clf.set_params(eta0=i)\n",
    "    clf_.fit(X_train, y_train)\n",
    "    \n",
    "    y_train_pred = clf_.predict(X_train)\n",
    "    mse_train = mse(y_train_pred, y_train)\n",
    "    mse_train_values.append(mse_train)\n",
    "    \n",
    "    y_test_pred = clf_.predict(X_test)\n",
    "    mse_test = mse(y_test_pred, y_test)\n",
    "    mse_test_values.append(mse_test)\n",
    "    \n",
    "\n",
    "plt.plot(x_axis, mse_train_values, label='Erro de Treino')\n",
    "plt.plot(x_axis, mse_test_values, label='Erro de Teste')\n",
    "plt.xlabel('Valor da taxa de aprendizagem $\\eta$')\n",
    "plt.ylabel('$MSE$')\n",
    "plt.legend()\n",
    "plt.title('Comparação Erro de Treino vs Erro de Teste')\n",
    "plt.show()"
   ]
  },
  {
   "cell_type": "markdown",
   "metadata": {
    "slideshow": {
     "slide_type": "slide"
    }
   },
   "source": [
    "![mapa-conceitual](https://github.com/storopoli/ciencia-de-dados/raw/master/Mapas%20Conceituais/12%20-%20Regressao%20Linear.png)"
   ]
  },
  {
   "cell_type": "markdown",
   "metadata": {
    "slideshow": {
     "slide_type": "slide"
    }
   },
   "source": [
    "## Atividade - Regressão com o dataset [Diabetes](https://scikit-learn.org/stable/datasets/index.html#diabetes-dataset)\n",
    "\n",
    "* $N = 442$\n",
    "* Atributos: 10\n",
    "    * `age`\n",
    "    * `sex`\n",
    "    * `bmi` Índice de Massa Corpórea (IMC) - *Body Mass Index* (BMI)\n",
    "    * `bp` pressão arterial média *blood pressure* (bp)\n",
    "    * `s1` colesterol total\n",
    "    * `s2` colesterol LDL\n",
    "    * `s3` colesterol HDL\n",
    "    * `s4` colesterol VLDL\n",
    "    * `s5` triglicerides\n",
    "    * `s6` glicose\n",
    "* Variável dependente: medida quantitativa de progressão da diabetes\n",
    "\n",
    "* Achar o melhor `eta0` e os respectivos coeficientes dos atributos ($\\theta_i$) e viés/constante ($\\theta_0$)\n",
    "\n",
    ">Obs: usar `test_size = 0.25` e `random_state = 123`"
   ]
  },
  {
   "cell_type": "code",
   "execution_count": null,
   "metadata": {
    "slideshow": {
     "slide_type": "subslide"
    }
   },
   "outputs": [],
   "source": [
    "from sklearn.datasets import load_diabetes\n",
    "\n",
    "diabetes = load_diabetes()\n",
    "X = diabetes['data']\n",
    "y = diabetes['target']"
   ]
  },
  {
   "cell_type": "code",
   "execution_count": null,
   "metadata": {
    "slideshow": {
     "slide_type": "subslide"
    }
   },
   "outputs": [],
   "source": [
    "print('Nomes dos Atributos: ', diabetes['feature_names'], '\\n')\n",
    "print('Tamanho de X: ', X.shape, '\\n')\n",
    "print('Tamanho de y: ', y.shape, '\\n')"
   ]
  }
 ],
 "metadata": {
  "celltoolbar": "Slideshow",
  "kernelspec": {
   "display_name": "Python [conda env:root] *",
   "language": "python",
   "name": "conda-root-py"
  },
  "language_info": {
   "codemirror_mode": {
    "name": "ipython",
    "version": 3
   },
   "file_extension": ".py",
   "mimetype": "text/x-python",
   "name": "python",
   "nbconvert_exporter": "python",
   "pygments_lexer": "ipython3",
   "version": "3.7.6"
  }
 },
 "nbformat": 4,
 "nbformat_minor": 4
}
