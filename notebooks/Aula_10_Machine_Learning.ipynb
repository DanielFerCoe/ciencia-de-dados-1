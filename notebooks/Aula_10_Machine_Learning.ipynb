{
 "cells": [
  {
   "cell_type": "markdown",
   "metadata": {
    "slideshow": {
     "slide_type": "skip"
    }
   },
   "source": [
    "[![Binder](https://mybinder.org/badge_logo.svg)](https://mybinder.org/v2/gh/storopoli/ciencia-de-dados/master?filepath=notebooks%2FAula_10_Machine_Learning.ipynb)"
   ]
  },
  {
   "cell_type": "markdown",
   "metadata": {
    "slideshow": {
     "slide_type": "slide"
    }
   },
   "source": [
    "# Aula 11 - *Machine Learning*\n",
    "\n",
    "**Objetivo**: Aprender o que é *Machine Learning* e quais são os componentes de um algoritmo de ML."
   ]
  },
  {
   "cell_type": "markdown",
   "metadata": {
    "slideshow": {
     "slide_type": "slide"
    }
   },
   "source": [
    "## Defininição - *Machine Learning*\n",
    "\n",
    "> Um programa de computador que aprende a partir da experiência E em relação a algum tipo de tarefa T e alguma medida de desempenho P, se o seu desempenho em T, conforme medido por P, melhor com a experiência E.\n",
    "\n",
    "Mitchell, T. M. (1997). Machine Learning. McGraw-Hill, New York."
   ]
  },
  {
   "cell_type": "markdown",
   "metadata": {
    "slideshow": {
     "slide_type": "subslide"
    }
   },
   "source": [
    "### Experiência (E)\n",
    "\n",
    "* Aprendizagem Supervisionada\n",
    "* Aprendizagem Não-Supervisionada\n",
    "* ~~Aprendizagem por Reforço~~"
   ]
  },
  {
   "cell_type": "markdown",
   "metadata": {
    "slideshow": {
     "slide_type": "subslide"
    }
   },
   "source": [
    "### Tarefas (T)\n",
    "\n",
    "* Classificação - Supervisionada qualitativa\n",
    "* Regressão - Supervisionada quantitativa\n",
    "* Agrupamento - Não-supervisionada"
   ]
  },
  {
   "cell_type": "markdown",
   "metadata": {
    "slideshow": {
     "slide_type": "subslide"
    }
   },
   "source": [
    "### Desempenho (P)\n",
    "\n",
    "* Dividir os dados em\n",
    "* Treino\n",
    "* Teste\n",
    "    * Aqui eu mensuro desempenho (P)"
   ]
  },
  {
   "cell_type": "markdown",
   "metadata": {
    "slideshow": {
     "slide_type": "subslide"
    }
   },
   "source": [
    "<img src=\"images/train-test.png\" alt=\"train-test\" style=\"width: 400px;\"/>"
   ]
  },
  {
   "cell_type": "markdown",
   "metadata": {
    "slideshow": {
     "slide_type": "slide"
    }
   },
   "source": [
    "## Generalização\n",
    "\n",
    "A habilidade de desempenhar bem em dados não observados anteriormente.\n",
    "\n",
    "Mensurada por erro:\n",
    "* Dados de Treino: Erro de Treino\n",
    "* Dados de Teste: Erro de Teste"
   ]
  },
  {
   "cell_type": "markdown",
   "metadata": {
    "slideshow": {
     "slide_type": "subslide"
    }
   },
   "source": [
    "### Erro do Algoritmo\n",
    "\n",
    "2 Fatores:\n",
    "\n",
    "1. Habilidade de Reduzir o Erro de Treino\n",
    "2. Habilidade de Reduzir a Lacuna entre o Erro de Treino e o Erro de Teste\n",
    "\n",
    "<img src=\"images/train-vs-test-error.png\" alt=\"train-vs-test-error\" style=\"width: 400px;\"/>"
   ]
  },
  {
   "cell_type": "markdown",
   "metadata": {
    "slideshow": {
     "slide_type": "subslide"
    }
   },
   "source": [
    "<img src=\"images/trainin4.gif\" alt=\"training\" style=\"width: 500px;\"/>"
   ]
  },
  {
   "cell_type": "markdown",
   "metadata": {
    "slideshow": {
     "slide_type": "subslide"
    }
   },
   "source": [
    "### *Overfitting* e *Underfitting*\n",
    "\n",
    "* Centrais em *Machine Learning*\n",
    "* Underfitting\n",
    "    - Modelos **menos** flexíveis que o ideal\n",
    "* Overfitting\n",
    "    - Modelos **mais** flexíveis que o ideal   \n",
    "\n",
    "<img src=\"images/underfitting-overfitting-capacity.png\" alt=\"underfitting-overfitting-capacity\" style=\"width: 500px;\"/>"
   ]
  },
  {
   "cell_type": "markdown",
   "metadata": {
    "slideshow": {
     "slide_type": "subslide"
    }
   },
   "source": [
    "#### No Free Lunch Theorem (NFL)\n",
    "\n",
    "> “Se você faz nenhum pressuposto dos dados, não há razão para preferir um modelo por outro”\n",
    "\n",
    "> Wolpert, D. H. (1996). The Lack of a Priori Distinctions between Learning Algorithms. Neural Computation, 8(7), 1341–1390. https://doi.org/10.1162/neco.1996.8.7.1341\n",
    "\t\n",
    "* Nenhum modelo é garantido que funcionará melhor\n",
    "    * Ex: para alguns dados, regressão linear é melhor; para outros, redes neurais.\n",
    "* A única maneira de saber é avaliar todos os modelos\n",
    "* Por isso que não há *almoço grátis*"
   ]
  },
  {
   "cell_type": "markdown",
   "metadata": {
    "slideshow": {
     "slide_type": "slide"
    }
   },
   "source": [
    "## Otimização\n",
    "\n",
    "Método mais utilizado é o **Método do Gradiente** (*Gradient Descent*)\n",
    "\n",
    "Inventado em 1847 por Augustin-Louis Cauchy. Usa a derivativa para minimizar uma função-alvo.\n",
    "\n",
    "**Método iterativo**: a cada iteração, tenta ir para o local/global minima\n",
    "\n",
    "<img src=\"images/gradient-descent.png\" alt=\"gradient-descent\" style=\"width: 400px;\"/>"
   ]
  },
  {
   "cell_type": "markdown",
   "metadata": {
    "slideshow": {
     "slide_type": "subslide"
    }
   },
   "source": [
    "<img src=\"images/gradient-descent.gif\" alt=\"gradient-descent-animation\" style=\"width: 500px;\"/>"
   ]
  },
  {
   "cell_type": "markdown",
   "metadata": {
    "slideshow": {
     "slide_type": "subslide"
    }
   },
   "source": [
    "<img src=\"images/gradient-descent-2.gif\" alt=\"gradient-descent-animation\" style=\"width: 500px;\"/>"
   ]
  },
  {
   "cell_type": "markdown",
   "metadata": {
    "slideshow": {
     "slide_type": "subslide"
    }
   },
   "source": [
    "### Local/Global Minima/Maxima\n",
    "\n",
    "<img src=\"images/local-minima.png\" alt=\"local-minima\" style=\"width: 400px;\"/>"
   ]
  },
  {
   "cell_type": "markdown",
   "metadata": {
    "slideshow": {
     "slide_type": "subslide"
    }
   },
   "source": [
    "<img src=\"images/gradient-descent-1.gif\" alt=\"gradient-descent-animation-2\" style=\"width: 500px;\"/>"
   ]
  },
  {
   "cell_type": "markdown",
   "metadata": {
    "slideshow": {
     "slide_type": "subslide"
    }
   },
   "source": [
    "<img src=\"images/gradient-descent-3.gif\" alt=\"gradient-descent-animation-3\" style=\"width: 500px;\"/>"
   ]
  },
  {
   "cell_type": "markdown",
   "metadata": {
    "slideshow": {
     "slide_type": "slide"
    }
   },
   "source": [
    "![mapa-conceitual](https://github.com/storopoli/ciencia-de-dados/raw/master/Mapas%20Conceituais/11%20-%20Machine%20Learning.png)"
   ]
  },
  {
   "cell_type": "markdown",
   "metadata": {
    "slideshow": {
     "slide_type": "slide"
    }
   },
   "source": [
    "## Atividade\n",
    "\n",
    "1. Traga 2 exemplos de Tarefa Supervisionada\n",
    "2. Traga 2 exemplos de Tarefa Não-Supervisionada"
   ]
  }
 ],
 "metadata": {
  "celltoolbar": "Slideshow",
  "kernelspec": {
   "display_name": "Python [conda env:root] *",
   "language": "python",
   "name": "conda-root-py"
  },
  "language_info": {
   "codemirror_mode": {
    "name": "ipython",
    "version": 3
   },
   "file_extension": ".py",
   "mimetype": "text/x-python",
   "name": "python",
   "nbconvert_exporter": "python",
   "pygments_lexer": "ipython3",
   "version": "3.7.6"
  }
 },
 "nbformat": 4,
 "nbformat_minor": 4
}
